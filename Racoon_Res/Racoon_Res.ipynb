{
 "cells": [
  {
   "cell_type": "code",
   "execution_count": 1,
   "metadata": {
    "collapsed": false
   },
   "outputs": [
    {
     "name": "stderr",
     "output_type": "stream",
     "text": [
      "/usr/local/lib/python2.7/dist-packages/sklearn/cross_validation.py:44: DeprecationWarning: This module was deprecated in version 0.18 in favor of the model_selection module into which all the refactored classes and functions are moved. Also note that the interface of the new CV iterators are different from that of this module. This module will be removed in 0.20.\n",
      "  \"This module will be removed in 0.20.\", DeprecationWarning)\n"
     ]
    },
    {
     "name": "stdout",
     "output_type": "stream",
     "text": [
      "training0000000999\n",
      "training0000001999\n",
      "training0000002999\n",
      "training0000003999\n",
      "training0000004999\n",
      "training0000005999\n",
      "training0000006999\n",
      "(7000, 2048)\n",
      "(970, 2048)\n",
      "('input_x shape ', (7000, 2048))\n",
      "('input_label shape ', (7000,))\n"
     ]
    }
   ],
   "source": [
    "import sys\n",
    "sys.path.append(\"/home/ubuntu/caffe/python\")\n",
    "import caffe\n",
    "import leveldb\n",
    "import numpy as np\n",
    "from caffe.proto import caffe_pb2\n",
    "\n",
    "import pandas as pd\n",
    "import sklearn\n",
    "from sklearn import cross_validation\n",
    "from sklearn.metrics import accuracy_score, confusion_matrix\n",
    "from sklearn.svm import SVC, LinearSVC\n",
    "import matplotlib.pyplot as plt\n",
    "import pickle\n",
    "\n",
    "from numpy import genfromtxt\n",
    "\n",
    "db = leveldb.LevelDB('./features_train_resnet-152/')\n",
    "\n",
    "datum = caffe_pb2.Datum()\n",
    "input_x = np.zeros((0,2048))\n",
    "\n",
    "i=0\n",
    "for key, value in db.RangeIter():\n",
    "    datum.ParseFromString(value)\n",
    "    data = caffe.io.datum_to_array(datum)\n",
    "    input_x = np.vstack((input_x,data.reshape(-1,1).T))\n",
    "    #print(\"training\"+key)\n",
    "    i+=1\n",
    "    if i%1000 == 0:\n",
    "        print(\"training\"+key)\n",
    "print(input_x.shape)\n",
    "\n",
    "\n",
    "db = leveldb.LevelDB('./features_test_resnet-152/')\n",
    "datum = caffe_pb2.Datum()\n",
    "test_x = np.zeros((0,2048))\n",
    "\n",
    "for key, value in db.RangeIter():\n",
    "    datum.ParseFromString(value)\n",
    "    data = caffe.io.datum_to_array(datum)\n",
    "    test_x = np.vstack((test_x,data.reshape(-1,1).T))\n",
    "    #print(\"test\"+key)\n",
    "print(test_x.shape)\n",
    "\n",
    "\n",
    "input_label = genfromtxt('./Files/train.csv', delimiter=',')\n",
    "input_label = input_label[1:7001,1].reshape(-1)\n",
    "\n",
    "print ('input_x shape ',input_x.shape)\n",
    "print ('input_label shape ',input_label.shape)"
   ]
  },
  {
   "cell_type": "code",
   "execution_count": 4,
   "metadata": {
    "collapsed": false
   },
   "outputs": [
    {
     "name": "stdout",
     "output_type": "stream",
     "text": [
      "fitting linear svm to training\n",
      "('training accuracy is', 1.0)\n",
      "('validation accuracy is', 0.81714285714285717)\n"
     ]
    }
   ],
   "source": [
    "#add cross validation\n",
    "from sklearn.model_selection import train_test_split\n",
    "from sklearn import datasets\n",
    "from sklearn import svm\n",
    "from sklearn.svm import SVC\n",
    "from sklearn.neural_network import MLPClassifier\n",
    "from sklearn.linear_model import LogisticRegression\n",
    "\n",
    "X_train, X_test, y_train, y_test = train_test_split(input_x, input_label, test_size=0.1, random_state=42)\n",
    "############\n",
    "#print(X_train.shape)\n",
    "###########\n",
    "\n",
    "#change clf to multi class logistic regression\n",
    "#clf = LogisticRegression(verbose=1,max_iter=100)\n",
    "\n",
    "#change clf multi class method to crammer singer\n",
    "#clf = LinearSVC(C=100.0, loss='hinge', penalty='l2',multi_class='ovr')\n",
    "\n",
    "#change to use SVC instead of linearSVC\n",
    "clf = SVC(C=500.0,decision_function_shape='ovr',max_iter=1000)\n",
    "\n",
    "# SVC\n",
    "# clf = SVC(C=100, cache_size=500, coef0=0.0, degree=3, gamma=1.0000000000000001e-04,\n",
    "#          kernel='rbf',max_iter=-1, probability=False, random_state=None, shrinking=True, tol=0.001, verbose=False)\n",
    "\n",
    "#add training accuracy for when training on entire input\n",
    "#clf.fit(input_x, input_label)\n",
    "#print('training accuracy is', clf.score(input_x,input_label))\n",
    "\n",
    "#try neural network\n",
    "#clf = MLPClassifier(solver='lbfgs', alpha=1e-5, hidden_layer_sizes=(5, 10), random_state=1)\n",
    "\n",
    "#fit of cross validation\n",
    "print('fitting linear svm to training')\n",
    "#for i in range(50):\n",
    "clf.fit(X_train, y_train)\n",
    "#    print('training accuracy is', clf.score(X_train,y_train))\n",
    "#add training accuracy for when training on x_train\n",
    "print('training accuracy is', clf.score(X_train,y_train))\n",
    "#add validation accuracy for when training on x_train\n",
    "print('validation accuracy is', clf.score(X_test,y_test))\n",
    "\n",
    "# clf = LinearSVC(C=1.0, loss='squared_hinge', penalty='l2',multi_class='ovr')\n",
    "# clf.fit(input_x, input_label)\n",
    "\n",
    "#fake validation accuracy and training accuracy\n",
    "# print('validation accuracy is', clf.score(X_test,y_test))\n",
    "# print('training accuracy is', clf.score(X_train,y_train))\n",
    "\n",
    "# y_pred = clf.predict(test_x)\n",
    "\n",
    "# filename = \"predict_resnet.csv\"\n",
    "# f = open(filename, \"w\")\n",
    "# f.write('Id,Prediction\\n')\n",
    "\n",
    "# if ((len(y_pred))<1000):\n",
    "#     zeros = np.zeros(2000)\n",
    "#     y_pred = np.append(y_pred, zeros).reshape(-1)\n",
    "\n",
    "# for i in range(0,len(y_pred)):\n",
    "#     d = '{0},{1}\\n'.format(i+1,int(y_pred[i]))\n",
    "#     f.write(d)\n"
   ]
  },
  {
   "cell_type": "code",
   "execution_count": null,
   "metadata": {
    "collapsed": true
   },
   "outputs": [],
   "source": []
  }
 ],
 "metadata": {
  "kernelspec": {
   "display_name": "Python 2",
   "language": "python",
   "name": "python2"
  },
  "language_info": {
   "codemirror_mode": {
    "name": "ipython",
    "version": 2
   },
   "file_extension": ".py",
   "mimetype": "text/x-python",
   "name": "python",
   "nbconvert_exporter": "python",
   "pygments_lexer": "ipython2",
   "version": "2.7.12"
  }
 },
 "nbformat": 4,
 "nbformat_minor": 1
}
